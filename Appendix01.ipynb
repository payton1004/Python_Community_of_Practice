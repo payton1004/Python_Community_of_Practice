{
 "cells": [
  {
   "cell_type": "markdown",
   "metadata": {},
   "source": [
    "## How To Add Python to the Windows Path"
   ]
  },
  {
   "cell_type": "markdown",
   "metadata": {},
   "source": [
    "Windows의 명령프롬프트(Command Prompt)에서 python입력만으로 python을 실행하기 위해 환경변수에 python의 경로를 추가하는 방법"
   ]
  },
  {
   "cell_type": "markdown",
   "metadata": {},
   "source": [
    "* [StackExchange; how to add python to the windows path](https://superuser.com/questions/143119/how-to-add-python-to-the-windows-path)"
   ]
  },
  {
   "cell_type": "markdown",
   "metadata": {},
   "source": [
    "1. Open \"System Properties\"\n",
    "2. Switch to the \"Advanced\" tab\n",
    "3. Click \"Environment Variables\"\n",
    "4. Select \"PATH\" in the \"System variables\" section\n",
    "5. Click \"Edit\"\n",
    "6. Add python's path to the end of the list (the paths are separated by semicolons)."
   ]
  },
  {
   "cell_type": "markdown",
   "metadata": {},
   "source": [
    "* [환경변수에 python 추가하기](http://radiation.tistory.com/entry/환경변수에-Python-추가하기)"
   ]
  },
  {
   "cell_type": "markdown",
   "metadata": {
    "deletable": true,
    "editable": true
   },
   "source": [
    "## How to save a Python interactive session"
   ]
  },
  {
   "cell_type": "markdown",
   "metadata": {},
   "source": [
    "* [stackoverflow; how to save a python interactive session](https://stackoverflow.com/questions/947810/how-to-save-a-python-interactive-session)"
   ]
  },
  {
   "cell_type": "markdown",
   "metadata": {},
   "source": [
    " \"save the code you've entered to a file\" feature\n",
    "  \n",
    "  a) If you are using IPython you can save to a file all your previous commands using the magic function %history with the -f parameter\n",
    "\n",
    "$ history -f /tmp/history.py\n",
    "\n",
    "b) just run the following ipython 'magic' command to automatically log your entire ipython session\n",
    "\n",
    "$ %logstart\n",
    "\n",
    "This will create a uniquely named .py file and store your session for later use as an interactive ipythn session or for use in the script(s) of your choosing\n",
    "\n",
    "c) You want to save lines from 1 till 135 then on the same ipython session use this command \n",
    "$ %save test.py 1-135\n",
    "This will save all your python statements in test.py file in your current directory (where you initiated the ipython)."
   ]
  }
 ],
 "metadata": {
  "kernelspec": {
   "display_name": "Python 2",
   "language": "python",
   "name": "python2"
  },
  "language_info": {
   "codemirror_mode": {
    "name": "ipython",
    "version": 2
   },
   "file_extension": ".py",
   "mimetype": "text/x-python",
   "name": "python",
   "nbconvert_exporter": "python",
   "pygments_lexer": "ipython2",
   "version": "2.7.13"
  }
 },
 "nbformat": 4,
 "nbformat_minor": 2
}
